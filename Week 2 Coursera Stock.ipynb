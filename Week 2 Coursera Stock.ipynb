{
 "cells": [
  {
   "cell_type": "markdown",
   "metadata": {},
   "source": [
    "## Outcomes and Variables"
   ]
  },
  {
   "cell_type": "code",
   "execution_count": 1,
   "metadata": {},
   "outputs": [],
   "source": [
    "#import numpy and pandas package\n",
    "import numpy as np\n",
    "import pandas as pd\n",
    "import matplotlib.pyplot as plt\n",
    "%matplotlib inline"
   ]
  },
  {
   "cell_type": "markdown",
   "metadata": {},
   "source": [
    "### Mimic the roll dice game"
   ]
  },
  {
   "cell_type": "code",
   "execution_count": 2,
   "metadata": {},
   "outputs": [
    {
     "name": "stdout",
     "output_type": "stream",
     "text": [
      "Sum of dice is 2\n"
     ]
    }
   ],
   "source": [
    "# roll two dice for multiple times\n",
    "die = pd.DataFrame([1, 2, 3, 4, 5, 6])\n",
    "sum_of_dice = die.sample(2, replace=True).sum().loc[0]\n",
    "print('Sum of dice is', sum_of_dice)  \n",
    "\n",
    "# you may get different outcomes as we now mimic the result of rolling 2 dice, but the range must be limited between 2 and 12. "
   ]
  },
  {
   "cell_type": "code",
   "execution_count": 3,
   "metadata": {},
   "outputs": [],
   "source": [
    "# It is your turn! let's replace the none with the code of rolling three dice, instead of two\n",
    "\n",
    "np.random.seed(1)  # This is for checking answer, do NOT modify this line of code\n",
    "\n",
    "#Modify the code, replace the None\n",
    "sum_of_three_dice = die.sample(3, replace=True).sum().loc[0]"
   ]
  },
  {
   "cell_type": "code",
   "execution_count": 4,
   "metadata": {},
   "outputs": [
    {
     "name": "stdout",
     "output_type": "stream",
     "text": [
      "Sum of three dice is 15\n"
     ]
    }
   ],
   "source": [
    "print('Sum of three dice is', sum_of_three_dice)"
   ]
  },
  {
   "cell_type": "markdown",
   "metadata": {},
   "source": [
    "**Expected output: ** Sum of three dice is 15"
   ]
  },
  {
   "cell_type": "markdown",
   "metadata": {},
   "source": [
    "### Mimic the roll dice game for multiple times"
   ]
  },
  {
   "cell_type": "code",
   "execution_count": 5,
   "metadata": {},
   "outputs": [],
   "source": [
    "# The following code mimics the roll dice game for 50 times. And the results are all stored into \"Result\"\n",
    "# Lets try and get the results of 50 sum of faces.\n",
    "\n",
    "trial = 50\n",
    "result = [die.sample(2, replace=True).sum().loc[0] for i in range(trial)]"
   ]
  },
  {
   "cell_type": "code",
   "execution_count": 6,
   "metadata": {},
   "outputs": [
    {
     "name": "stdout",
     "output_type": "stream",
     "text": [
      "[3, 10, 2, 7, 11, 5, 11, 8, 9, 8]\n"
     ]
    }
   ],
   "source": [
    "#print the first 10 results\n",
    "print(result[:10])"
   ]
  },
  {
   "cell_type": "markdown",
   "metadata": {},
   "source": [
    "###  Frequency and Distribution"
   ]
  },
  {
   "cell_type": "code",
   "execution_count": 7,
   "metadata": {},
   "outputs": [],
   "source": [
    "import matplotlib.pyplot as plt\n",
    "%matplotlib inline"
   ]
  },
  {
   "cell_type": "code",
   "execution_count": 8,
   "metadata": {},
   "outputs": [],
   "source": [
    "# To recall, this is the code to mimic the roll dice game for 50 times\n",
    "\n",
    "die = pd.DataFrame([1, 2, 3, 4, 5, 6])\n",
    "trial = 50\n",
    "results = [die.sample(2, replace=True).sum().loc[0] for i in range(trial)]"
   ]
  },
  {
   "cell_type": "code",
   "execution_count": 9,
   "metadata": {},
   "outputs": [
    {
     "name": "stdout",
     "output_type": "stream",
     "text": [
      "3      4\n",
      "4      4\n",
      "5      5\n",
      "6      6\n",
      "7     12\n",
      "8      7\n",
      "9      3\n",
      "10     5\n",
      "11     3\n",
      "12     1\n",
      "Name: 0, dtype: int64\n"
     ]
    }
   ],
   "source": [
    "# This is the code for summarizing the results of sum of faces by frequency\n",
    "\n",
    "freq = pd.DataFrame(results)[0].value_counts()\n",
    "sort_freq = freq.sort_index()\n",
    "print(sort_freq)"
   ]
  },
  {
   "cell_type": "code",
   "execution_count": 10,
   "metadata": {},
   "outputs": [
    {
     "data": {
      "text/plain": [
       "<matplotlib.axes._subplots.AxesSubplot at 0x7ff5b32cdcc0>"
      ]
     },
     "execution_count": 10,
     "metadata": {},
     "output_type": "execute_result"
    },
    {
     "data": {
      "image/png": "[encoded data removed]",
      "text/plain": [
       "<Figure size 1080x576 with 1 Axes>"
      ]
     },
     "metadata": {
      "needs_background": "light"
     },
     "output_type": "display_data"
    }
   ],
   "source": [
    "#plot the bar chart base on the result\n",
    "\n",
    "sort_freq.plot(kind='bar', color='blue', figsize=(15, 8))"
   ]
  },
  {
   "cell_type": "markdown",
   "metadata": {},
   "source": [
    "### Relative Frequency"
   ]
  },
  {
   "cell_type": "code",
   "execution_count": 11,
   "metadata": {},
   "outputs": [
    {
     "data": {
      "text/plain": [
       "<matplotlib.axes._subplots.AxesSubplot at 0x7ff5b2f097f0>"
      ]
     },
     "execution_count": 11,
     "metadata": {},
     "output_type": "execute_result"
    },
    {
     "data": {
      "image/png": "[encoded data removed]",
      "text/plain": [
       "<Figure size 1080x576 with 1 Axes>"
      ]
     },
     "metadata": {
      "needs_background": "light"
     },
     "output_type": "display_data"
    }
   ],
   "source": [
    "# Using relative frequency, we can rescale the frequency so that we can compare results from different number of trials\n",
    "relative_freq = sort_freq/trial\n",
    "relative_freq.plot(kind='bar', color='blue', figsize=(15, 8))"
   ]
  },
  {
   "cell_type": "code",
   "execution_count": 12,
   "metadata": {},
   "outputs": [
    {
     "data": {
      "text/plain": [
       "<matplotlib.axes._subplots.AxesSubplot at 0x7ff5b3135ba8>"
      ]
     },
     "execution_count": 12,
     "metadata": {},
     "output_type": "execute_result"
    },
    {
     "data": {
      "image/png": "[encoded data removed]",
      "text/plain": [
       "<Figure size 1080x576 with 1 Axes>"
      ]
     },
     "metadata": {
      "needs_background": "light"
     },
     "output_type": "display_data"
    }
   ],
   "source": [
    "# Let us try to increase the number of trials to 10000, and see what will happen...\n",
    "trial = 10000\n",
    "results = [die.sample(2, replace=True).sum().loc[0] for i in range(trial)]\n",
    "freq = pd.DataFrame(results)[0].value_counts()\n",
    "sort_freq = freq.sort_index()\n",
    "relative_freq = sort_freq/trial\n",
    "relative_freq.plot(kind='bar', color='blue', figsize=(15, 8))"
   ]
  },
  {
   "cell_type": "markdown",
   "metadata": {},
   "source": [
    "## We can see that with more trials, the result looks more and more stable, and this is very close to a probability distribution. Try increasing the number of \"trial\" further (but it may take some time for Jupyter Notebook to output the result)"
   ]
  },
  {
   "cell_type": "markdown",
   "metadata": {},
   "source": [
    "# Expectation and Variance of a distribution"
   ]
  },
  {
   "cell_type": "code",
   "execution_count": 13,
   "metadata": {},
   "outputs": [
    {
     "data": {
      "text/html": [
       "<div>\n",
       "<style scoped>\n",
       "    .dataframe tbody tr th:only-of-type {\n",
       "        vertical-align: middle;\n",
       "    }\n",
       "\n",
       "    .dataframe tbody tr th {\n",
       "        vertical-align: top;\n",
       "    }\n",
       "\n",
       "    .dataframe thead th {\n",
       "        text-align: right;\n",
       "    }\n",
       "</style>\n",
       "<table border=\"1\" class=\"dataframe\">\n",
       "  <thead>\n",
       "    <tr style=\"text-align: right;\">\n",
       "      <th></th>\n",
       "      <th>Prob</th>\n",
       "    </tr>\n",
       "  </thead>\n",
       "  <tbody>\n",
       "    <tr>\n",
       "      <th>2</th>\n",
       "      <td>0.027778</td>\n",
       "    </tr>\n",
       "    <tr>\n",
       "      <th>3</th>\n",
       "      <td>0.055556</td>\n",
       "    </tr>\n",
       "    <tr>\n",
       "      <th>4</th>\n",
       "      <td>0.083333</td>\n",
       "    </tr>\n",
       "    <tr>\n",
       "      <th>5</th>\n",
       "      <td>0.111111</td>\n",
       "    </tr>\n",
       "    <tr>\n",
       "      <th>6</th>\n",
       "      <td>0.138889</td>\n",
       "    </tr>\n",
       "    <tr>\n",
       "      <th>7</th>\n",
       "      <td>0.166667</td>\n",
       "    </tr>\n",
       "    <tr>\n",
       "      <th>8</th>\n",
       "      <td>0.138889</td>\n",
       "    </tr>\n",
       "    <tr>\n",
       "      <th>9</th>\n",
       "      <td>0.111111</td>\n",
       "    </tr>\n",
       "    <tr>\n",
       "      <th>10</th>\n",
       "      <td>0.083333</td>\n",
       "    </tr>\n",
       "    <tr>\n",
       "      <th>11</th>\n",
       "      <td>0.055556</td>\n",
       "    </tr>\n",
       "    <tr>\n",
       "      <th>12</th>\n",
       "      <td>0.027778</td>\n",
       "    </tr>\n",
       "  </tbody>\n",
       "</table>\n",
       "</div>"
      ],
      "text/plain": [
       "        Prob\n",
       "2   0.027778\n",
       "3   0.055556\n",
       "4   0.083333\n",
       "5   0.111111\n",
       "6   0.138889\n",
       "7   0.166667\n",
       "8   0.138889\n",
       "9   0.111111\n",
       "10  0.083333\n",
       "11  0.055556\n",
       "12  0.027778"
      ]
     },
     "execution_count": 13,
     "metadata": {},
     "output_type": "execute_result"
    }
   ],
   "source": [
    "# assume that we have fair dice, which means all faces will be shown with equal probability\n",
    "# then we can say we know the 'Distribtuion' of the random variable - sum_of_dice\n",
    "\n",
    "X_distri = pd.DataFrame(index=[2, 3, 4, 5, 6, 7, 8, 9, 10, 11, 12])\n",
    "X_distri['Prob'] = [1, 2, 3, 4, 5, 6, 5, 4, 3, 2, 1]\n",
    "X_distri['Prob'] = X_distri['Prob']/36\n",
    "X_distri"
   ]
  },
  {
   "cell_type": "code",
   "execution_count": 14,
   "metadata": {},
   "outputs": [],
   "source": [
    "mean = pd.Series(X_distri.index * X_distri['Prob']).sum()\n",
    "var = pd.Series(((X_distri.index - mean)**2)*X_distri['Prob']).sum()"
   ]
  },
  {
   "cell_type": "code",
   "execution_count": 15,
   "metadata": {},
   "outputs": [
    {
     "name": "stdout",
     "output_type": "stream",
     "text": [
      "6.999999999999998 5.833333333333333\n"
     ]
    }
   ],
   "source": [
    "#Output the mean and variance of the distribution. Mean and variance can be used to describe a distribution\n",
    "print(mean, var)"
   ]
  },
  {
   "cell_type": "markdown",
   "metadata": {},
   "source": [
    "## Empirical mean and variance"
   ]
  },
  {
   "cell_type": "code",
   "execution_count": 16,
   "metadata": {},
   "outputs": [],
   "source": [
    "# if we calculate mean and variance of outcomes (with high enough number of trials, eg 20000)...\n",
    "trial = 20000\n",
    "results = [die.sample(2, replace=True).sum().loc[0] for i in range(trial)]"
   ]
  },
  {
   "cell_type": "code",
   "execution_count": 17,
   "metadata": {},
   "outputs": [
    {
     "name": "stdout",
     "output_type": "stream",
     "text": [
      "7.0087 5.839516285814291\n"
     ]
    }
   ],
   "source": [
    "#print the mean and variance of the 20000 trials\n",
    "results = pd.Series(results)\n",
    "print(results.mean(), results.var())"
   ]
  },
  {
   "cell_type": "markdown",
   "metadata": {},
   "source": [
    "##  Models of Stock Return"
   ]
  },
  {
   "cell_type": "code",
   "execution_count": 18,
   "metadata": {},
   "outputs": [
    {
     "data": {
      "text/html": [
       "<div>\n",
       "<style scoped>\n",
       "    .dataframe tbody tr th:only-of-type {\n",
       "        vertical-align: middle;\n",
       "    }\n",
       "\n",
       "    .dataframe tbody tr th {\n",
       "        vertical-align: top;\n",
       "    }\n",
       "\n",
       "    .dataframe thead th {\n",
       "        text-align: right;\n",
       "    }\n",
       "</style>\n",
       "<table border=\"1\" class=\"dataframe\">\n",
       "  <thead>\n",
       "    <tr style=\"text-align: right;\">\n",
       "      <th></th>\n",
       "      <th>Open</th>\n",
       "      <th>High</th>\n",
       "      <th>Low</th>\n",
       "      <th>Close</th>\n",
       "      <th>Adj Close</th>\n",
       "      <th>Volume</th>\n",
       "    </tr>\n",
       "    <tr>\n",
       "      <th>Date</th>\n",
       "      <th></th>\n",
       "      <th></th>\n",
       "      <th></th>\n",
       "      <th></th>\n",
       "      <th></th>\n",
       "      <th></th>\n",
       "    </tr>\n",
       "  </thead>\n",
       "  <tbody>\n",
       "    <tr>\n",
       "      <th>2014-12-31</th>\n",
       "      <td>46.730000</td>\n",
       "      <td>47.439999</td>\n",
       "      <td>46.450001</td>\n",
       "      <td>46.450001</td>\n",
       "      <td>42.848763</td>\n",
       "      <td>21552500</td>\n",
       "    </tr>\n",
       "    <tr>\n",
       "      <th>2015-01-02</th>\n",
       "      <td>46.660000</td>\n",
       "      <td>47.419998</td>\n",
       "      <td>46.540001</td>\n",
       "      <td>46.759998</td>\n",
       "      <td>43.134731</td>\n",
       "      <td>27913900</td>\n",
       "    </tr>\n",
       "    <tr>\n",
       "      <th>2015-01-05</th>\n",
       "      <td>46.369999</td>\n",
       "      <td>46.730000</td>\n",
       "      <td>46.250000</td>\n",
       "      <td>46.330002</td>\n",
       "      <td>42.738068</td>\n",
       "      <td>39673900</td>\n",
       "    </tr>\n",
       "    <tr>\n",
       "      <th>2015-01-06</th>\n",
       "      <td>46.380001</td>\n",
       "      <td>46.750000</td>\n",
       "      <td>45.540001</td>\n",
       "      <td>45.650002</td>\n",
       "      <td>42.110783</td>\n",
       "      <td>36447900</td>\n",
       "    </tr>\n",
       "    <tr>\n",
       "      <th>2015-01-07</th>\n",
       "      <td>45.980000</td>\n",
       "      <td>46.459999</td>\n",
       "      <td>45.490002</td>\n",
       "      <td>46.230000</td>\n",
       "      <td>42.645817</td>\n",
       "      <td>29114100</td>\n",
       "    </tr>\n",
       "  </tbody>\n",
       "</table>\n",
       "</div>"
      ],
      "text/plain": [
       "                 Open       High        Low      Close  Adj Close    Volume\n",
       "Date                                                                       \n",
       "2014-12-31  46.730000  47.439999  46.450001  46.450001  42.848763  21552500\n",
       "2015-01-02  46.660000  47.419998  46.540001  46.759998  43.134731  27913900\n",
       "2015-01-05  46.369999  46.730000  46.250000  46.330002  42.738068  39673900\n",
       "2015-01-06  46.380001  46.750000  45.540001  45.650002  42.110783  36447900\n",
       "2015-01-07  45.980000  46.459999  45.490002  46.230000  42.645817  29114100"
      ]
     },
     "execution_count": 18,
     "metadata": {},
     "output_type": "execute_result"
    }
   ],
   "source": [
    "ms = pd.read_csv('microsoft.csv',index_col = 0)\n",
    "ms.head()"
   ]
  },
  {
   "cell_type": "markdown",
   "metadata": {},
   "source": [
    "## Distribution of Log return"
   ]
  },
  {
   "cell_type": "code",
   "execution_count": 19,
   "metadata": {},
   "outputs": [],
   "source": [
    "# let play around with ms data by calculating the log daily return\n",
    "ms['LogReturn'] = np.log(ms['Close']).shift(-1) - np.log(ms['Close'])"
   ]
  },
  {
   "cell_type": "code",
   "execution_count": 20,
   "metadata": {},
   "outputs": [
    {
     "data": {
      "image/png": "[encoded data removed]",
      "text/plain": [
       "<Figure size 1080x576 with 1 Axes>"
      ]
     },
     "metadata": {
      "needs_background": "light"
     },
     "output_type": "display_data"
    }
   ],
   "source": [
    "# Plot a histogram to show the distribution of log return of Microsoft's stock. \n",
    "# You can see it is very close to a normal distribution\n",
    "from scipy.stats import norm\n",
    "mu = ms['LogReturn'].mean()\n",
    "sigma = ms['LogReturn'].std(ddof=1)\n",
    "\n",
    "density = pd.DataFrame()\n",
    "density['x'] = np.arange(ms['LogReturn'].min()-0.01, ms['LogReturn'].max()+0.01, 0.001)\n",
    "density['pdf'] = norm.pdf(density['x'], mu, sigma)\n",
    "\n",
    "ms['LogReturn'].hist(bins=50, figsize=(15, 8))\n",
    "plt.plot(density['x'], density['pdf'], color='red')\n",
    "plt.show()"
   ]
  },
  {
   "cell_type": "markdown",
   "metadata": {},
   "source": [
    "## Calculate the probability of the stock price will drop over a certain percentage in a day"
   ]
  },
  {
   "cell_type": "code",
   "execution_count": 21,
   "metadata": {},
   "outputs": [
    {
     "name": "stdout",
     "output_type": "stream",
     "text": [
      "The Probability is  0.00017118482608677866\n"
     ]
    }
   ],
   "source": [
    "# probability that the stock price of microsoft will drop over 5% in a day\n",
    "prob_return1 = norm.cdf(-0.05, mu, sigma)\n",
    "print('The Probability is ', prob_return1)"
   ]
  },
  {
   "cell_type": "code",
   "execution_count": 23,
   "metadata": {},
   "outputs": [
    {
     "name": "stdout",
     "output_type": "stream",
     "text": [
      "The Probability is  6.056775634858584e-13\n"
     ]
    }
   ],
   "source": [
    "# Now is your turn, calculate the probability that the stock price of microsoft will drop over 10% in a day\n",
    "prob_return1 = norm.cdf(-0.10, mu, sigma)\n",
    "print('The Probability is ', prob_return1)"
   ]
  },
  {
   "cell_type": "markdown",
   "metadata": {},
   "source": [
    "## Calculate the probability of the stock price will drop over a certain percentage in a year"
   ]
  },
  {
   "cell_type": "code",
   "execution_count": 25,
   "metadata": {},
   "outputs": [
    {
     "name": "stdout",
     "output_type": "stream",
     "text": [
      "The probability of dropping over 40% in 220 days is  0.0029123633133305506\n"
     ]
    }
   ],
   "source": [
    "# drop over 40% in 220 days\n",
    "mu220 = 220*mu\n",
    "sigma220 = (220**0.5) * sigma\n",
    "print('The probability of dropping over 40% in 220 days is ', norm.cdf(-0.4, mu220, sigma220))"
   ]
  },
  {
   "cell_type": "code",
   "execution_count": 26,
   "metadata": {},
   "outputs": [
    {
     "name": "stdout",
     "output_type": "stream",
     "text": [
      "The probability of dropping over 20% in 220 days is  None\n"
     ]
    }
   ],
   "source": [
    "# drop over 20% in 220 days\n",
    "mu220 = 220*mu\n",
    "sigma220 = (220**0.5) * sigma\n",
    "drop20 = None\n",
    "print('The probability of dropping over 20% in 220 days is ', drop20)"
   ]
  },
  {
   "cell_type": "markdown",
   "metadata": {},
   "source": [
    "## Calculate Value at risk (VaR)"
   ]
  },
  {
   "cell_type": "code",
   "execution_count": 27,
   "metadata": {},
   "outputs": [
    {
     "name": "stdout",
     "output_type": "stream",
     "text": [
      "Single day value at risk  -0.02252336240706501\n"
     ]
    }
   ],
   "source": [
    "# Value at risk(VaR)\n",
    "VaR = norm.ppf(0.05, mu, sigma)\n",
    "print('Single day value at risk ', VaR)"
   ]
  },
  {
   "cell_type": "code",
   "execution_count": 32,
   "metadata": {},
   "outputs": [
    {
     "name": "stdout",
     "output_type": "stream",
     "text": [
      "5% quantile  -0.02252336240706501\n",
      "95% quantile  0.02416382537931104\n"
     ]
    }
   ],
   "source": [
    "# Quatile \n",
    "# 5% quantile\n",
    "print('5% quantile ', norm.ppf(0.05, mu, sigma))\n",
    "# 95% quantile\n",
    "print('95% quantile ', norm.ppf(0.95, mu, sigma))"
   ]
  },
  {
   "cell_type": "code",
   "execution_count": 36,
   "metadata": {},
   "outputs": [
    {
     "name": "stdout",
     "output_type": "stream",
     "text": [
      "25% quantile  -0.008752057838414963\n",
      "75% quantile  0.01039252081066101\n"
     ]
    }
   ],
   "source": [
    "# This is your turn to calcuate the 25% and 75% Quantile of the return\n",
    "# 25% quantile\n",
    "q25 = norm.ppf(0.25, mu, sigma)\n",
    "print('25% quantile ', q25)\n",
    "# 75% quantile\n",
    "q75 = norm.ppf(0.75, mu, sigma) \n",
    "print('75% quantile ', q75)"
   ]
  },
  {
   "cell_type": "code",
   "execution_count": null,
   "metadata": {},
   "outputs": [],
   "source": []
  }
 ],
 "metadata": {
  "kernelspec": {
   "display_name": "Python 3",
   "language": "python",
   "name": "python3"
  },
  "language_info": {
   "codemirror_mode": {
    "name": "ipython",
    "version": 3
   },
   "file_extension": ".py",
   "mimetype": "text/x-python",
   "name": "python",
   "nbconvert_exporter": "python",
   "pygments_lexer": "ipython3",
   "version": "3.7.3"
  }
 },
 "nbformat": 4,
 "nbformat_minor": 2
}
